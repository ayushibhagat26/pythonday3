{
 "cells": [
  {
   "cell_type": "code",
   "execution_count": null,
   "id": "liberal-prompt",
   "metadata": {},
   "outputs": [],
   "source": [
    "#Introduction to string methods:   # hash is used for commenting the lines...!"
   ]
  },
  {
   "cell_type": "code",
   "execution_count": 1,
   "id": "cellular-preference",
   "metadata": {},
   "outputs": [
    {
     "name": "stdout",
     "output_type": "stream",
     "text": [
      "vaibhav\n"
     ]
    }
   ],
   "source": [
    "name = 'vaibhav'\n",
    "\n",
    "print(name)    # this is a string.."
   ]
  },
  {
   "cell_type": "code",
   "execution_count": null,
   "id": "included-appliance",
   "metadata": {},
   "outputs": [],
   "source": [
    "how to validate and confirm?"
   ]
  },
  {
   "cell_type": "code",
   "execution_count": 2,
   "id": "committed-sculpture",
   "metadata": {},
   "outputs": [
    {
     "data": {
      "text/plain": [
       "str"
      ]
     },
     "execution_count": 2,
     "metadata": {},
     "output_type": "execute_result"
    }
   ],
   "source": [
    "type(name)    # string ----> str  "
   ]
  },
  {
   "cell_type": "code",
   "execution_count": null,
   "id": "authentic-occasions",
   "metadata": {},
   "outputs": [],
   "source": [
    "Note : python is a case sensitive language...."
   ]
  },
  {
   "cell_type": "code",
   "execution_count": null,
   "id": "according-division",
   "metadata": {},
   "outputs": [],
   "source": [
    "# this is used to comment the lines...!"
   ]
  },
  {
   "cell_type": "code",
   "execution_count": 3,
   "id": "vocal-jesus",
   "metadata": {},
   "outputs": [
    {
     "name": "stdout",
     "output_type": "stream",
     "text": [
      "afroz\n"
     ]
    }
   ],
   "source": [
    "name2 = \"afroz\"\n",
    "\n",
    "print(name2)"
   ]
  },
  {
   "cell_type": "code",
   "execution_count": 4,
   "id": "coated-champion",
   "metadata": {},
   "outputs": [
    {
     "data": {
      "text/plain": [
       "str"
      ]
     },
     "execution_count": 4,
     "metadata": {},
     "output_type": "execute_result"
    }
   ],
   "source": [
    "type(name2)"
   ]
  },
  {
   "cell_type": "code",
   "execution_count": null,
   "id": "completed-chrome",
   "metadata": {},
   "outputs": [],
   "source": []
  },
  {
   "cell_type": "code",
   "execution_count": 5,
   "id": "right-chance",
   "metadata": {},
   "outputs": [
    {
     "name": "stdout",
     "output_type": "stream",
     "text": [
      "jeet singh\n"
     ]
    }
   ],
   "source": [
    "fullname = 'jeet singh'\n",
    "\n",
    "print(fullname)"
   ]
  },
  {
   "cell_type": "code",
   "execution_count": 6,
   "id": "proper-acquisition",
   "metadata": {},
   "outputs": [
    {
     "name": "stdout",
     "output_type": "stream",
     "text": [
      "Jeet Singh\n"
     ]
    }
   ],
   "source": [
    "print(fullname.title())    # title() --->it will be converting first letter of the word to capitals."
   ]
  },
  {
   "cell_type": "code",
   "execution_count": null,
   "id": "classified-german",
   "metadata": {},
   "outputs": [],
   "source": [
    "Requirement: i want the entire name in capitals...?"
   ]
  },
  {
   "cell_type": "code",
   "execution_count": 7,
   "id": "alive-jumping",
   "metadata": {},
   "outputs": [
    {
     "name": "stdout",
     "output_type": "stream",
     "text": [
      "JEET SINGH\n"
     ]
    }
   ],
   "source": [
    "print(fullname.upper())"
   ]
  },
  {
   "cell_type": "code",
   "execution_count": null,
   "id": "surgical-search",
   "metadata": {},
   "outputs": [],
   "source": [
    "Req: i want the entire name in small letters...?"
   ]
  },
  {
   "cell_type": "code",
   "execution_count": 8,
   "id": "structured-aluminum",
   "metadata": {},
   "outputs": [
    {
     "name": "stdout",
     "output_type": "stream",
     "text": [
      "jeet singh\n"
     ]
    }
   ],
   "source": [
    "print(fullname.lower())"
   ]
  },
  {
   "cell_type": "code",
   "execution_count": null,
   "id": "gorgeous-minority",
   "metadata": {},
   "outputs": [],
   "source": []
  },
  {
   "cell_type": "code",
   "execution_count": null,
   "id": "desperate-council",
   "metadata": {},
   "outputs": [],
   "source": [
    "introduction to f string:\n",
    "    \n",
    "    f\"custom note {placeholder1} {placeholder2} ....{placeholdern}\""
   ]
  },
  {
   "cell_type": "code",
   "execution_count": 14,
   "id": "decimal-facility",
   "metadata": {},
   "outputs": [],
   "source": [
    "firstname = 'pavan'\n",
    "lastname = 'kumar'  # shift+enter"
   ]
  },
  {
   "cell_type": "code",
   "execution_count": null,
   "id": "internal-pierre",
   "metadata": {},
   "outputs": [],
   "source": [
    "Req: i want to get full name ....?"
   ]
  },
  {
   "cell_type": "code",
   "execution_count": 16,
   "id": "willing-bankruptcy",
   "metadata": {},
   "outputs": [
    {
     "name": "stdout",
     "output_type": "stream",
     "text": [
      " pavan kumar\n"
     ]
    }
   ],
   "source": [
    "fullname = f\" {firstname} {lastname}\"\n",
    "\n",
    "print(fullname)\n"
   ]
  },
  {
   "cell_type": "code",
   "execution_count": 17,
   "id": "british-child",
   "metadata": {},
   "outputs": [
    {
     "name": "stdout",
     "output_type": "stream",
     "text": [
      "keep up the good work, pavan kumar\n"
     ]
    }
   ],
   "source": [
    "x = f\"keep up the good work, {firstname} {lastname}\"\n",
    "\n",
    "print(x)"
   ]
  },
  {
   "cell_type": "code",
   "execution_count": null,
   "id": "preliminary-edmonton",
   "metadata": {},
   "outputs": [],
   "source": []
  },
  {
   "cell_type": "code",
   "execution_count": null,
   "id": "elegant-spending",
   "metadata": {},
   "outputs": [],
   "source": [
    "Adding whitespaces to strings:"
   ]
  },
  {
   "cell_type": "code",
   "execution_count": 18,
   "id": "dental-dayton",
   "metadata": {},
   "outputs": [
    {
     "name": "stdout",
     "output_type": "stream",
     "text": [
      "listpythonjavacobalc#\n"
     ]
    }
   ],
   "source": [
    "favlanguages = \"listpythonjavacobalc#\"\n",
    "\n",
    "print(favlanguages)"
   ]
  },
  {
   "cell_type": "code",
   "execution_count": 19,
   "id": "known-stopping",
   "metadata": {},
   "outputs": [
    {
     "name": "stdout",
     "output_type": "stream",
     "text": [
      "favlanguages:\n",
      "python\n",
      "c\n",
      "java\n",
      "c++\n"
     ]
    }
   ],
   "source": [
    "print(\"favlanguages:\\npython\\nc\\njava\\nc++\")   # \\n --> as a keyword --->\\n it will be printing in the new line"
   ]
  },
  {
   "cell_type": "code",
   "execution_count": null,
   "id": "loaded-behavior",
   "metadata": {},
   "outputs": [],
   "source": []
  },
  {
   "cell_type": "code",
   "execution_count": null,
   "id": "nearby-islam",
   "metadata": {},
   "outputs": [],
   "source": []
  },
  {
   "cell_type": "code",
   "execution_count": null,
   "id": "exterior-perry",
   "metadata": {},
   "outputs": [],
   "source": []
  },
  {
   "cell_type": "code",
   "execution_count": null,
   "id": "nasty-seafood",
   "metadata": {},
   "outputs": [],
   "source": []
  },
  {
   "cell_type": "code",
   "execution_count": null,
   "id": "intense-philadelphia",
   "metadata": {},
   "outputs": [],
   "source": []
  }
 ],
 "metadata": {
  "kernelspec": {
   "display_name": "Python 3",
   "language": "python",
   "name": "python3"
  },
  "language_info": {
   "codemirror_mode": {
    "name": "ipython",
    "version": 3
   },
   "file_extension": ".py",
   "mimetype": "text/x-python",
   "name": "python",
   "nbconvert_exporter": "python",
   "pygments_lexer": "ipython3",
   "version": "3.8.5"
  }
 },
 "nbformat": 4,
 "nbformat_minor": 5
}
